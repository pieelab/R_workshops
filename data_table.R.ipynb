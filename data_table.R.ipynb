{
 "cells": [
  {
   "cell_type": "markdown",
   "metadata": {
    "slideshow": {
     "slide_type": "slide"
    }
   },
   "source": [
    "# Data handling with `data.table`\n",
    "\n",
    "\n",
    "## Why `R`\n",
    "\n",
    "* An integrated workflow\n",
    "* State of the art statistics, data mining, visualisation...\n",
    "* Transparency (a peer can read the 'recipe')\n",
    "\n",
    "![R + data.table](https://lh3.googleusercontent.com/bC_VxRnj88vsK3sxRhATGxJXuwMVjLCTpCzo6EErneHkczRq-tOZDPRTel_DEw2E152pfVnH5_Wr05CYxmiiNYb1LOtq51HuYSFo2GiwRkcoCwPUYNIimJJ7TxMbFB_K83-jYc2ynA=w952-h330-no)\n"
   ]
  },
  {
   "cell_type": "markdown",
   "metadata": {
    "slideshow": {
     "slide_type": "slide"
    }
   },
   "source": [
    "## About these notebooks\n",
    "\n",
    "1. File/make a copy/...\n",
    "2. (rename)/save\n",
    "3. Double click on a **cell** to edit\n",
    "4. SHIFT + ENTER to run the whole cell and move to the next"
   ]
  },
  {
   "cell_type": "code",
   "execution_count": null,
   "metadata": {
    "slideshow": {
     "slide_type": "fragment"
    }
   },
   "outputs": [],
   "source": [
    "## try to write some R code here\n",
    "a = 1\n",
    "a + 5 / 3"
   ]
  },
  {
   "cell_type": "markdown",
   "metadata": {
    "slideshow": {
     "slide_type": "slide"
    }
   },
   "source": [
    "\n",
    "## Data manipulation, transformation and curation\n",
    "\n",
    "In the real world, data:\n",
    "\n",
    "* is rarely in the correct format (collaborators!!),\n",
    "* may need to be summarised,\n",
    "* has some mistakes (need quality control),\n",
    "* can be enriched (merging data from multiple sources), and\n",
    "* manipulation comes with (implicit) assumptions.\n",
    "\n",
    "![data cleaning](https://www.kdnuggets.com/wp-content/uploads/data-cleaning-1.jpg)\n"
   ]
  },
  {
   "cell_type": "markdown",
   "metadata": {
    "slideshow": {
     "slide_type": "slide"
    }
   },
   "source": [
    "## Data handling good practices\n",
    "\n",
    "* **Read-only** input data (stick to [CSV](https://en.wikipedia.org/wiki/Comma-separated_values))\n",
    "* Script internally **copies the data** \n",
    "* Script is a **linear sequence** of operations\n",
    "* Interactive and critical process \n",
    "\n",
    "![https://r4ds.had.co.nz/explore-intro.html](https://d33wubrfki0l68.cloudfront.net/795c039ba2520455d833b4034befc8cf360a70ba/558a5/diagrams/data-science-explore.png)"
   ]
  },
  {
   "cell_type": "markdown",
   "metadata": {
    "slideshow": {
     "slide_type": "slide"
    }
   },
   "source": [
    "## Statistical data frames in `R` (`data.frame`)\n",
    "\n",
    "* One column per variable\n",
    "* One row per observation\n",
    "* Generic and consistent format for visualisation and modelling\n",
    "* But, old and clunky"
   ]
  },
  {
   "cell_type": "markdown",
   "metadata": {
    "slideshow": {
     "slide_type": "fragment"
    }
   },
   "source": [
    "## `data.table`, an improved `data.frame`\n",
    "\n",
    "* Efficient syntax\n",
    "* Performance\n",
    "* Conceptual improvements (key, joins, ...)\n",
    "* Fully compatible with `data.frame`\n",
    "* See also the [tidyverse](https://www.tidyverse.org/)\n"
   ]
  },
  {
   "cell_type": "markdown",
   "metadata": {
    "slideshow": {
     "slide_type": "slide"
    }
   },
   "source": [
    "## `data.table`, a matter of syntax\n",
    "\n",
    "\n",
    "```R\n",
    "DT[i, j, by]\n",
    "```\n",
    "\n",
    "Means 'Take DT, subset/reorder rows using `i`, then calculate `j`, grouped by `by`'.\n"
   ]
  },
  {
   "cell_type": "markdown",
   "metadata": {
    "slideshow": {
     "slide_type": "slide"
    }
   },
   "source": [
    "# Today's data\n",
    "\n",
    "## Background story\n",
    "\n",
    "You are deeply interested in the effect of agricultural practices on insect pest pressure.\n",
    "Your charismatic advisor has convinced you to set up an ambitious monitoring program to record the **occurrence of a pest insect**. \n",
    "In addition, you have decided to score the presence of its most **significant predator**, as well as a **generalist parasitoid**. \n",
    "By some miracle, you have managed to acquire a large amount of sticky trap data (well done!).\n"
   ]
  },
  {
   "cell_type": "markdown",
   "metadata": {
    "slideshow": {
     "slide_type": "slide"
    }
   },
   "source": [
    "## Your variables \n",
    "\n",
    "* For a whole season, you (and your dedicated field assistant) have placed multiple traps for seven days, and counted the **number** of all three players `N_pest`, `N_pred`, `N_para` (those are three response variables).\n",
    "\n",
    "* Each week, at a specific date (`date`), four traps will have been put on one of six sites (`site`): `'A'`, `'B'`, `C`, `D`, `E` and `F`. \n",
    "\n",
    "* Each site is characterised by one of two practices (`practice`): `orga`, `conv`\n",
    "\n",
    "The field season has just ended, and you can finally sit at a desk, enter these data, and enjoy the fun part!\n"
   ]
  },
  {
   "cell_type": "markdown",
   "metadata": {
    "slideshow": {
     "slide_type": "slide"
    }
   },
   "source": [
    "## Data structure\n",
    "\n",
    "You had the common sense of organising your data in a single CSV file `2019-ag_practices_effect_on_pest.csv`, which has a sensible name, (available [here](https://raw.githubusercontent.com/qgeissmann/r_workshops/master/2019-ag_practices_effect_on_pest.csv)). **Click on the data the [link](https://raw.githubusercontent.com/qgeissmann/r_workshops/master/2019-ag_practices_effect_on_pest.csv) and have a look yourself**.\n",
    "\n",
    "Each row corresponds to a single trap.\n",
    "The columns contain the three response variables that were recorded on each trap: `N_pest`, `N_pred`, and `N_para`.\n",
    "In addition, the `date`, `site` and `practice` of each defined as additional columns.\n",
    "\n",
    "\n"
   ]
  },
  {
   "cell_type": "markdown",
   "metadata": {
    "slideshow": {
     "slide_type": "slide"
    }
   },
   "source": [
    "## Import and curation\n",
    "\n",
    "When putting your hands on some data, you will pretty much always want to do the following:\n",
    "\n",
    "1. Import the `data.table` \n",
    "1. Load the data in using `fread`\n",
    "1. Check the dimension of the resulting table\n",
    "1. Check / fix the variable types\n",
    "1. Look for obvious irregularities \n"
   ]
  },
  {
   "cell_type": "markdown",
   "metadata": {
    "slideshow": {
     "slide_type": "slide"
    }
   },
   "source": [
    "### Package import"
   ]
  },
  {
   "cell_type": "code",
   "execution_count": null,
   "metadata": {
    "slideshow": {
     "slide_type": "fragment"
    }
   },
   "outputs": [],
   "source": [
    "# On your own machine install data table first:\n",
    "# install.packages('data.table')\n",
    "library(data.table)\n"
   ]
  },
  {
   "cell_type": "markdown",
   "metadata": {
    "slideshow": {
     "slide_type": "slide"
    }
   },
   "source": [
    "### Loading data\n",
    "\n",
    "You can either [download your data](https://raw.githubusercontent.com/qgeissmann/r_workshops/master/2019-ag_practices_effect_on_pest.csv), or let `fread` retrieve it from the web, as in:"
   ]
  },
  {
   "cell_type": "code",
   "execution_count": null,
   "metadata": {
    "slideshow": {
     "slide_type": "fragment"
    }
   },
   "outputs": [],
   "source": [
    "URL <- \"https://github.com/qgeissmann/r_workshops/raw/master/2019-ag_practices_effect_on_pest.csv\"\n",
    "dt <- fread(URL, stringsAsFactors = TRUE) # forces string as factors"
   ]
  },
  {
   "cell_type": "markdown",
   "metadata": {
    "slideshow": {
     "slide_type": "slide"
    }
   },
   "source": [
    "### Dimensions\n",
    "You can get dimensions by just printing the table. It also shows the type of each variable:"
   ]
  },
  {
   "cell_type": "code",
   "execution_count": null,
   "metadata": {
    "scrolled": true,
    "slideshow": {
     "slide_type": "fragment"
    }
   },
   "outputs": [],
   "source": [
    "dt # same as print(dt)"
   ]
  },
  {
   "cell_type": "markdown",
   "metadata": {
    "slideshow": {
     "slide_type": "slide"
    }
   },
   "source": [
    "### Changing column type\n",
    "\n",
    "`date`, should be a continuous variable -- as opposed to a factor. This will become very relevant when modelling, visualising and processing.\n",
    "Sometimes you want, for instance, to force variables to be characters instead of numbers etc."
   ]
  },
  {
   "cell_type": "code",
   "execution_count": null,
   "metadata": {
    "slideshow": {
     "slide_type": "fragment"
    }
   },
   "outputs": [],
   "source": [
    "## Data tables ARE data frames, so you can just use \n",
    "dt$date <- as.Date(dt$date)"
   ]
  },
  {
   "cell_type": "code",
   "execution_count": null,
   "metadata": {},
   "outputs": [],
   "source": [
    "## A consise way to summarise variables in R:\n",
    "str(dt)"
   ]
  },
  {
   "cell_type": "markdown",
   "metadata": {
    "slideshow": {
     "slide_type": "slide"
    }
   },
   "source": [
    "## Data summaries\n",
    "\n",
    "To find more irregularity, we need to 'question' the data. The simplest way is to generate 'aggregates' specific questions. For example,\n",
    "\n",
    "* What is the **total number of traps for each site**?\n",
    "* What is the **total number of traps for each date**?\n",
    "* What is the **total number of traps for each date AND site**?\n",
    "* What is the **sum of all three insects for each date**?\n",
    "\n",
    "This can be done using the syntax:\n",
    "\n",
    "```R\n",
    "DT[,XXX,by=YYY]\n",
    "```\n",
    "where `YYY` are the variables to use as keys (e.g. site, date,...) and `XXX`, the operation to perform.\n"
   ]
  },
  {
   "cell_type": "code",
   "execution_count": null,
   "metadata": {
    "slideshow": {
     "slide_type": "slide"
    }
   },
   "outputs": [],
   "source": [
    "# .N is a special variable returning the number\n",
    "dt[, .N, by='site']"
   ]
  },
  {
   "cell_type": "code",
   "execution_count": null,
   "metadata": {
    "slideshow": {
     "slide_type": "slide"
    }
   },
   "outputs": [],
   "source": [
    "## YOUR TURN\n",
    "## How many observations per date?\n",
    "\n"
   ]
  },
  {
   "cell_type": "code",
   "execution_count": null,
   "metadata": {
    "slideshow": {
     "slide_type": "slide"
    }
   },
   "outputs": [],
   "source": [
    "## Instead of .N, we can do some arbitrary operations on columns:\n",
    "dt[, sum(N_pred), by='site']"
   ]
  },
  {
   "cell_type": "code",
   "execution_count": null,
   "metadata": {
    "scrolled": true,
    "slideshow": {
     "slide_type": "slide"
    }
   },
   "outputs": [],
   "source": [
    "## The total of all insect FOR EACH DATE\n",
    "dt[, sum(N_pred + N_para + N_pest), by=date]"
   ]
  },
  {
   "cell_type": "code",
   "execution_count": null,
   "metadata": {
    "slideshow": {
     "slide_type": "slide"
    }
   },
   "outputs": [],
   "source": [
    "## YOUR TURN\n",
    "## Ask your own question here\n",
    "\n",
    "# dt[,,by=]"
   ]
  },
  {
   "cell_type": "markdown",
   "metadata": {
    "slideshow": {
     "slide_type": "slide"
    }
   },
   "source": [
    "## Filtering and selection (rows)\n",
    "\n",
    "Sometimes you want to subset your data -- i.e. select only some observations.\n",
    "This can be done with the `DT[III,,]` syntax, where `III` is a condition."
   ]
  },
  {
   "cell_type": "code",
   "execution_count": null,
   "metadata": {
    "scrolled": true,
    "slideshow": {
     "slide_type": "slide"
    }
   },
   "outputs": [],
   "source": [
    "## For example, to show only read from site A\n",
    "dt[site == 'A']"
   ]
  },
  {
   "cell_type": "code",
   "execution_count": null,
   "metadata": {
    "scrolled": true,
    "slideshow": {
     "slide_type": "slide"
    }
   },
   "outputs": [],
   "source": [
    "## To overwrite dt, we need to use <- (or =)\n",
    "dt <- dt[date >= \"2019-04-05\"] ## note, this condition works because date IS continuous\n",
    "str(dt)"
   ]
  },
  {
   "cell_type": "code",
   "execution_count": null,
   "metadata": {
    "scrolled": true,
    "slideshow": {
     "slide_type": "slide"
    }
   },
   "outputs": [],
   "source": [
    "## YOUR TURN (a tricky one!)\n",
    "## What is the average (mean) number of pests, FOR EACH date, \n",
    "## ONLY for observations that have AT LEAST 10 predators\n"
   ]
  },
  {
   "cell_type": "markdown",
   "metadata": {
    "slideshow": {
     "slide_type": "slide"
    }
   },
   "source": [
    "## Alteration and addition of variables\n",
    "\n",
    "Most likely you will also want to make new variables, or redefine them.\n",
    "For instance, we changed date earlier with the base `R` syntax \n",
    "\n",
    "```R\n",
    "DF$VARIABLE <- ZZZ(DF$VARIABLE)\n",
    "```\n",
    "\n",
    "where `ZZZ` is a function. \n",
    "\n",
    "In `data.table`, there is a much more elegant and efficient syntax: \n",
    "\n",
    "```R\n",
    "DT[, VARIABLE := ZZZ(VARIABLE)]\n",
    "```"
   ]
  },
  {
   "cell_type": "code",
   "execution_count": null,
   "metadata": {
    "scrolled": true,
    "slideshow": {
     "slide_type": "slide"
    }
   },
   "outputs": [],
   "source": [
    "# To make a new variable that is the log10(N_pest +1):\n",
    "dt[, log_N_pest := log10(N_pest +1)]\n",
    "dt"
   ]
  },
  {
   "cell_type": "code",
   "execution_count": null,
   "metadata": {
    "slideshow": {
     "slide_type": "slide"
    }
   },
   "outputs": [],
   "source": [
    "## You can also make operations between variables\n",
    "dt[, sum_all_insects := N_pest + N_para + N_pred]\n",
    "str(dt)"
   ]
  },
  {
   "cell_type": "code",
   "execution_count": null,
   "metadata": {
    "slideshow": {
     "slide_type": "slide"
    }
   },
   "outputs": [],
   "source": [
    "## Remove variables\n",
    "dt[, sum_all_insects := NULL]\n",
    "dt[, log_N_pest:= NULL]\n",
    "\n",
    "str(dt)"
   ]
  },
  {
   "cell_type": "code",
   "execution_count": null,
   "metadata": {
    "slideshow": {
     "slide_type": "slide"
    }
   },
   "outputs": [],
   "source": [
    "## YOUR TURN (easy)\n",
    "## compute the ratio of predator over pest (what are the possible issues)\n",
    "# dt[, pred_over_pest := ....]\n",
    "\n",
    "## YOUR TURN (harder)\n",
    "## Compute the cumulative sum  of all pest along the season, FOR EACH site\n",
    "## Which critical assuption are you making?!!\n",
    "\n",
    "# dt[, cum_N_pest := cumsum(...),]\n"
   ]
  },
  {
   "cell_type": "markdown",
   "metadata": {
    "slideshow": {
     "slide_type": "slide"
    }
   },
   "source": [
    "## Joins\n",
    "\n",
    "This is where `data.table` shines the most 🌞!\n",
    "It is sometimes inconvenient to keep \"metadata\" in the same data table.\n",
    "For instance, you may have **another table** that contains a description of each site in terms of location, soil pH, elevation etc. If you want to include any of these \"metavariables\" in a model/plot, you will need to add it to your data. In other words, you want to find all the rows for a given site and append them with the corresponding data from another table. This operation is formally called a [**join**](https://en.wikipedia.org/wiki/Relational_algebra#Joins_and_join-like_operators). \n",
    "\n",
    "To keep things simple, let's forge such a 'metadata' table by hand (in practice, you would have another csv, but it is just an exemple and I was being lazy): "
   ]
  },
  {
   "cell_type": "code",
   "execution_count": null,
   "metadata": {
    "slideshow": {
     "slide_type": "slide"
    }
   },
   "outputs": [],
   "source": [
    "meta_dt <- data.table(site=      c('A', 'B', 'C', 'D', 'E', 'F'),\n",
    "                      elevation= c(100, 20,  300, 70,  110, 50),\n",
    "                      pH =       c(7.5, 5.8, 8.2, 6.2, 7.1, 6.5)\n",
    "                     )\n",
    "meta_dt"
   ]
  },
  {
   "cell_type": "markdown",
   "metadata": {
    "slideshow": {
     "slide_type": "slide"
    }
   },
   "source": [
    "Now the magic formula is `MDT[DT, on = KEY]`🧙‍,\n",
    "where `MDT` is the metadata, and `KEY`, is the name of the colum(S) to 'map'.\n",
    "In practice:"
   ]
  },
  {
   "cell_type": "code",
   "execution_count": null,
   "metadata": {
    "scrolled": true,
    "slideshow": {
     "slide_type": "fragment"
    }
   },
   "outputs": [],
   "source": [
    "enriched_dt <- meta_dt[dt, on='site']\n",
    "enriched_dt"
   ]
  },
  {
   "cell_type": "markdown",
   "metadata": {
    "slideshow": {
     "slide_type": "slide"
    }
   },
   "source": [
    "Joins can also be applied ON continuous variables, for example on `date`.\n",
    "You could, for example, get some regional weather data as another table, ensure it has a column named `date`, and join it like so: `weather_dt[dt, on='date']`. \n",
    "\n",
    "This will only match the dates in `dt` that are exactly the same as in `weather_dt`. \n",
    "You can apply a \"rolling join\" to allow a match with close dates instead, but we won't do that today."
   ]
  },
  {
   "cell_type": "markdown",
   "metadata": {
    "slideshow": {
     "slide_type": "slide"
    }
   },
   "source": [
    "## Reshaping data\n",
    "\n",
    "In our data, we have three response variables `N_pest`, `N_pred` and `N_para`.\n",
    "However, we are recording the same thing, a number of individuals, on tree distinct species. \n",
    "In some cases (modelling and visualisation), we would like to encode the count as a unique response variable,\n",
    "and include a new variable, e.g. `species` as a covariate. The original table is encoded in a **wide** format, while we want a **long** format. Importantly, **both tables hold the exact same information**. The `melt` function can be used to melt a wide to a long table. For the reverse operation, long to wide, use `dcast`.\n",
    "\n"
   ]
  },
  {
   "cell_type": "code",
   "execution_count": null,
   "metadata": {
    "scrolled": true,
    "slideshow": {
     "slide_type": "slide"
    }
   },
   "outputs": [],
   "source": [
    "dt_long <- melt(dt,\n",
    "                measure.vars = patterns('N_*'),\n",
    "                value.name='N',\n",
    "                variable.name ='species')\n",
    "dt_long[, species := gsub(\"^N_\", \"\", species)]\n",
    "dt_long\n"
   ]
  },
  {
   "cell_type": "markdown",
   "metadata": {
    "slideshow": {
     "slide_type": "slide"
    }
   },
   "source": [
    "##  Visualisation (teaser)\n",
    "\n",
    "The next step would be to visualise the data, that should happen as a quality control before any modelling / statistics.\n",
    "For instance, we can show the temporal trend of the count, for each species (as a different colour) and each site/practice (as a subplot) using some `ggplot` whitchcraft:\n"
   ]
  },
  {
   "cell_type": "code",
   "execution_count": null,
   "metadata": {
    "slideshow": {
     "slide_type": "slide"
    }
   },
   "outputs": [],
   "source": [
    "library(ggplot2)\n",
    "options(repr.plot.width=12, repr.plot.height=9)\n",
    "ggplot(dt_long, aes(date, N, colour=species)) + \n",
    "            geom_point(alpha=.3) + \n",
    "            geom_smooth(method='loess') + \n",
    "            facet_wrap( ~ practice * site)"
   ]
  },
  {
   "cell_type": "markdown",
   "metadata": {
    "slideshow": {
     "slide_type": "slide"
    }
   },
   "source": [
    "## Resources\n",
    "\n",
    "* [Official tutorial](https://cran.r-project.org/web/packages/data.table/vignettes/datatable-intro.html)\n",
    "* [Data table cheatsheet](https://s3.amazonaws.com/assets.datacamp.com/blog_assets/datatable_Cheat_Sheet_R.pdf)\n",
    "* Rolling joins [tutorials](https://www.r-bloggers.com/understanding-data-table-rolling-joins/)\n",
    "* [Video description](https://www.youtube.com/watch?v=MvH1eTdsekA) of `data.table` by its creator"
   ]
  }
 ],
 "metadata": {
  "kernelspec": {
   "display_name": "R",
   "language": "R",
   "name": "ir"
  },
  "language_info": {
   "codemirror_mode": "r",
   "file_extension": ".r",
   "mimetype": "text/x-r-source",
   "name": "R",
   "pygments_lexer": "r",
   "version": "3.3.3"
  }
 },
 "nbformat": 4,
 "nbformat_minor": 2
}
